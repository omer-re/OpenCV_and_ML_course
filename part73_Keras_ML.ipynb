{
 "cells": [
  {
   "cell_type": "code",
   "execution_count": 1,
   "metadata": {},
   "outputs": [],
   "source": [
    "import numpy as np\n",
    "from numpy import genfromtxt\n",
    "import matplotlib.pyplot as plt\n",
    "%matplotlib inline\n",
    "import cv2"
   ]
  },
  {
   "cell_type": "code",
   "execution_count": 2,
   "metadata": {},
   "outputs": [],
   "source": [
    "data = genfromtxt('Computer-Vision-with-Python/DATA/bank_note_data.txt',delimiter=',')"
   ]
  },
  {
   "cell_type": "code",
   "execution_count": 5,
   "metadata": {},
   "outputs": [
    {
     "data": {
      "text/plain": [
       "array([[  3.6216 ,   8.6661 ,  -2.8073 ,  -0.44699,   0.     ],\n",
       "       [  4.5459 ,   8.1674 ,  -2.4586 ,  -1.4621 ,   0.     ],\n",
       "       [  3.866  ,  -2.6383 ,   1.9242 ,   0.10645,   0.     ],\n",
       "       ...,\n",
       "       [ -3.7503 , -13.4586 ,  17.5932 ,  -2.7771 ,   1.     ],\n",
       "       [ -3.5637 ,  -8.3827 ,  12.393  ,  -1.2823 ,   1.     ],\n",
       "       [ -2.5419 ,  -0.65804,   2.6842 ,   1.1952 ,   1.     ]])"
      ]
     },
     "execution_count": 5,
     "metadata": {},
     "output_type": "execute_result"
    }
   ],
   "source": [
    "data"
   ]
  },
  {
   "cell_type": "code",
   "execution_count": 9,
   "metadata": {},
   "outputs": [
    {
     "data": {
      "text/plain": [
       "array([[  3.6216 ,   8.6661 ,  -2.8073 ,  -0.44699],\n",
       "       [  4.5459 ,   8.1674 ,  -2.4586 ,  -1.4621 ],\n",
       "       [  3.866  ,  -2.6383 ,   1.9242 ,   0.10645],\n",
       "       ...,\n",
       "       [ -3.7503 , -13.4586 ,  17.5932 ,  -2.7771 ],\n",
       "       [ -3.5637 ,  -8.3827 ,  12.393  ,  -1.2823 ],\n",
       "       [ -2.5419 ,  -0.65804,   2.6842 ,   1.1952 ]])"
      ]
     },
     "execution_count": 9,
     "metadata": {},
     "output_type": "execute_result"
    }
   ],
   "source": [
    "labels = data[:,4]\n",
    "labels\n",
    "features = data[:,0:4]\n",
    "features"
   ]
  },
  {
   "cell_type": "code",
   "execution_count": 11,
   "metadata": {},
   "outputs": [],
   "source": [
    "X = features\n",
    "y = labels\n",
    "\n",
    "from sklearn.model_selection import train_test_split"
   ]
  },
  {
   "cell_type": "code",
   "execution_count": 13,
   "metadata": {},
   "outputs": [],
   "source": [
    "X_train, X_test, y_train, y_test = train_test_split(X, y, test_size=0.33, random_state=42)"
   ]
  },
  {
   "cell_type": "code",
   "execution_count": 26,
   "metadata": {},
   "outputs": [],
   "source": [
    "from sklearn.preprocessing import MinMaxScaler\n",
    "scaler_object = MinMaxScaler()\n",
    "scaler_object.fit(X_train)\n",
    "scaled_X_train = scaler_object.transform(X_train)\n",
    "scaled_X_test = scaler_object.transform(X_test)\n",
    "\n",
    "scaled_X_train\n",
    "\n",
    "from keras.models import Sequential\n",
    "from keras.layers import Dense"
   ]
  },
  {
   "cell_type": "code",
   "execution_count": 29,
   "metadata": {},
   "outputs": [],
   "source": [
    "model = Sequential()\n",
    "model.add(Dense(4,input_dim=4,activation='relu'))\n",
    "\n",
    "model.add(Dense(8,activation='relu'))\n",
    "\n",
    "model.add(Dense(1,activation='sigmoid'))\n",
    "\n"
   ]
  },
  {
   "cell_type": "code",
   "execution_count": 33,
   "metadata": {},
   "outputs": [
    {
     "name": "stdout",
     "output_type": "stream",
     "text": [
      "Epoch 1/50\n",
      " - 0s - loss: 0.0511 - acc: 0.9793\n",
      "Epoch 2/50\n",
      " - 0s - loss: 0.0503 - acc: 0.9826\n",
      "Epoch 3/50\n",
      " - 0s - loss: 0.0511 - acc: 0.9804\n",
      "Epoch 4/50\n",
      " - 0s - loss: 0.0499 - acc: 0.9782\n",
      "Epoch 5/50\n",
      " - 0s - loss: 0.0494 - acc: 0.9782\n",
      "Epoch 6/50\n",
      " - 0s - loss: 0.0485 - acc: 0.9804\n",
      "Epoch 7/50\n",
      " - 0s - loss: 0.0489 - acc: 0.9793\n",
      "Epoch 8/50\n",
      " - 0s - loss: 0.0490 - acc: 0.9848\n",
      "Epoch 9/50\n",
      " - 0s - loss: 0.0475 - acc: 0.9771\n",
      "Epoch 10/50\n",
      " - 0s - loss: 0.0467 - acc: 0.9771\n",
      "Epoch 11/50\n",
      " - 0s - loss: 0.0465 - acc: 0.9782\n",
      "Epoch 12/50\n",
      " - 0s - loss: 0.0459 - acc: 0.9782\n",
      "Epoch 13/50\n",
      " - 0s - loss: 0.0456 - acc: 0.9761\n",
      "Epoch 14/50\n",
      " - 0s - loss: 0.0448 - acc: 0.9804\n",
      "Epoch 15/50\n",
      " - 0s - loss: 0.0463 - acc: 0.9804\n",
      "Epoch 16/50\n",
      " - 0s - loss: 0.0457 - acc: 0.9793\n",
      "Epoch 17/50\n",
      " - 0s - loss: 0.0433 - acc: 0.9804\n",
      "Epoch 18/50\n",
      " - 0s - loss: 0.0434 - acc: 0.9793\n",
      "Epoch 19/50\n",
      " - 0s - loss: 0.0431 - acc: 0.9815\n",
      "Epoch 20/50\n",
      " - 0s - loss: 0.0426 - acc: 0.9793\n",
      "Epoch 21/50\n",
      " - 0s - loss: 0.0426 - acc: 0.9804\n",
      "Epoch 22/50\n",
      " - 0s - loss: 0.0415 - acc: 0.9804\n",
      "Epoch 23/50\n",
      " - 0s - loss: 0.0414 - acc: 0.9793\n",
      "Epoch 24/50\n",
      " - 0s - loss: 0.0418 - acc: 0.9804\n",
      "Epoch 25/50\n",
      " - 0s - loss: 0.0406 - acc: 0.9804\n",
      "Epoch 26/50\n",
      " - 0s - loss: 0.0406 - acc: 0.9793\n",
      "Epoch 27/50\n",
      " - 0s - loss: 0.0409 - acc: 0.9804\n",
      "Epoch 28/50\n",
      " - 0s - loss: 0.0400 - acc: 0.9815\n",
      "Epoch 29/50\n",
      " - 0s - loss: 0.0397 - acc: 0.9815\n",
      "Epoch 30/50\n",
      " - 0s - loss: 0.0398 - acc: 0.9793\n",
      "Epoch 31/50\n",
      " - 0s - loss: 0.0393 - acc: 0.9804\n",
      "Epoch 32/50\n",
      " - 0s - loss: 0.0386 - acc: 0.9826\n",
      "Epoch 33/50\n",
      " - 0s - loss: 0.0386 - acc: 0.9804\n",
      "Epoch 34/50\n",
      " - 0s - loss: 0.0388 - acc: 0.9826\n",
      "Epoch 35/50\n",
      " - 0s - loss: 0.0376 - acc: 0.9804\n",
      "Epoch 36/50\n",
      " - 0s - loss: 0.0378 - acc: 0.9804\n",
      "Epoch 37/50\n",
      " - 0s - loss: 0.0380 - acc: 0.9826\n",
      "Epoch 38/50\n",
      " - 0s - loss: 0.0380 - acc: 0.9826\n",
      "Epoch 39/50\n",
      " - 0s - loss: 0.0376 - acc: 0.9804\n",
      "Epoch 40/50\n",
      " - 0s - loss: 0.0370 - acc: 0.9804\n",
      "Epoch 41/50\n",
      " - 0s - loss: 0.0374 - acc: 0.9815\n",
      "Epoch 42/50\n",
      " - 0s - loss: 0.0396 - acc: 0.9804\n",
      "Epoch 43/50\n",
      " - 0s - loss: 0.0362 - acc: 0.9837\n",
      "Epoch 44/50\n",
      " - 0s - loss: 0.0361 - acc: 0.9826\n",
      "Epoch 45/50\n",
      " - 0s - loss: 0.0357 - acc: 0.9815\n",
      "Epoch 46/50\n",
      " - 0s - loss: 0.0362 - acc: 0.9804\n",
      "Epoch 47/50\n",
      " - 0s - loss: 0.0350 - acc: 0.9837\n",
      "Epoch 48/50\n",
      " - 0s - loss: 0.0350 - acc: 0.9826\n",
      "Epoch 49/50\n",
      " - 0s - loss: 0.0353 - acc: 0.9848\n",
      "Epoch 50/50\n",
      " - 0s - loss: 0.0360 - acc: 0.9837\n"
     ]
    },
    {
     "data": {
      "text/plain": [
       "<keras.callbacks.History at 0x1815524cac8>"
      ]
     },
     "execution_count": 33,
     "metadata": {},
     "output_type": "execute_result"
    }
   ],
   "source": [
    "model.compile(loss='binary_crossentropy', optimizer='adam',metrics=['accuracy'])\n",
    "model.fit(scaled_X_train,y_train,epochs=50,verbose=2)"
   ]
  },
  {
   "cell_type": "code",
   "execution_count": 35,
   "metadata": {},
   "outputs": [
    {
     "data": {
      "text/plain": [
       "array([[253,   4],\n",
       "       [  2, 194]], dtype=int64)"
      ]
     },
     "execution_count": 35,
     "metadata": {},
     "output_type": "execute_result"
    }
   ],
   "source": [
    "#model.predict_classes(scaled_X_test)\n",
    "model.metrics_names\n",
    "from sklearn.metrics import confusion_matrix,classification_report\n",
    "predictions = model.predict_classes(scaled_X_test)\n",
    "confusion_matrix(y_test,predictions)"
   ]
  },
  {
   "cell_type": "code",
   "execution_count": 37,
   "metadata": {},
   "outputs": [
    {
     "name": "stdout",
     "output_type": "stream",
     "text": [
      "             precision    recall  f1-score   support\n",
      "\n",
      "        0.0       0.99      0.98      0.99       257\n",
      "        1.0       0.98      0.99      0.98       196\n",
      "\n",
      "avg / total       0.99      0.99      0.99       453\n",
      "\n"
     ]
    }
   ],
   "source": [
    "print(classification_report(y_test,predictions))"
   ]
  },
  {
   "cell_type": "code",
   "execution_count": 38,
   "metadata": {},
   "outputs": [],
   "source": [
    "model.save('wowmodel.h5')"
   ]
  }
 ],
 "metadata": {
  "kernelspec": {
   "display_name": "Python 3",
   "language": "python",
   "name": "python3"
  },
  "language_info": {
   "codemirror_mode": {
    "name": "ipython",
    "version": 3
   },
   "file_extension": ".py",
   "mimetype": "text/x-python",
   "name": "python",
   "nbconvert_exporter": "python",
   "pygments_lexer": "ipython3",
   "version": "3.6.6"
  }
 },
 "nbformat": 4,
 "nbformat_minor": 2
}
